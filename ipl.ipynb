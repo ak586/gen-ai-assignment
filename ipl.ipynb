{
 "cells": [
  {
   "cell_type": "markdown",
   "id": "8ffa55f8-6ef3-4836-a0ee-e18c0ee7f6be",
   "metadata": {},
   "source": [
    "## Importing libraries"
   ]
  },
  {
   "cell_type": "code",
   "execution_count": 194,
   "id": "916ab551-69b9-4a12-a35d-0780da39fdf5",
   "metadata": {},
   "outputs": [],
   "source": [
    "import pandas as pd\n",
    "import matplotlib.pyplot as plt\n",
    "import seaborn as sns"
   ]
  },
  {
   "cell_type": "markdown",
   "id": "83077851-69ce-4d44-a2e6-2e3481ecc756",
   "metadata": {},
   "source": [
    "## Reading data"
   ]
  },
  {
   "cell_type": "code",
   "execution_count": 254,
   "id": "32e84845-a1ea-409d-85b3-96f83aaa2a82",
   "metadata": {},
   "outputs": [
    {
     "data": {
      "text/html": [
       "<div>\n",
       "<style scoped>\n",
       "    .dataframe tbody tr th:only-of-type {\n",
       "        vertical-align: middle;\n",
       "    }\n",
       "\n",
       "    .dataframe tbody tr th {\n",
       "        vertical-align: top;\n",
       "    }\n",
       "\n",
       "    .dataframe thead th {\n",
       "        text-align: right;\n",
       "    }\n",
       "</style>\n",
       "<table border=\"1\" class=\"dataframe\">\n",
       "  <thead>\n",
       "    <tr style=\"text-align: right;\">\n",
       "      <th></th>\n",
       "      <th>id</th>\n",
       "      <th>season</th>\n",
       "      <th>city</th>\n",
       "      <th>date</th>\n",
       "      <th>team1</th>\n",
       "      <th>team2</th>\n",
       "      <th>toss_winner</th>\n",
       "      <th>toss_decision</th>\n",
       "      <th>result</th>\n",
       "      <th>dl_applied</th>\n",
       "      <th>winner</th>\n",
       "      <th>win_by_runs</th>\n",
       "      <th>win_by_wickets</th>\n",
       "      <th>player_of_match</th>\n",
       "      <th>venue</th>\n",
       "      <th>umpire1</th>\n",
       "      <th>umpire2</th>\n",
       "      <th>umpire3</th>\n",
       "    </tr>\n",
       "  </thead>\n",
       "  <tbody>\n",
       "    <tr>\n",
       "      <th>0</th>\n",
       "      <td>1</td>\n",
       "      <td>2017</td>\n",
       "      <td>Hyderabad</td>\n",
       "      <td>2017-04-05</td>\n",
       "      <td>Sunrisers Hyderabad</td>\n",
       "      <td>Royal Challengers Bangalore</td>\n",
       "      <td>Royal Challengers Bangalore</td>\n",
       "      <td>field</td>\n",
       "      <td>normal</td>\n",
       "      <td>0</td>\n",
       "      <td>Sunrisers Hyderabad</td>\n",
       "      <td>35</td>\n",
       "      <td>0</td>\n",
       "      <td>Yuvraj Singh</td>\n",
       "      <td>Rajiv Gandhi International Stadium, Uppal</td>\n",
       "      <td>AY Dandekar</td>\n",
       "      <td>NJ Llong</td>\n",
       "      <td>NaN</td>\n",
       "    </tr>\n",
       "    <tr>\n",
       "      <th>1</th>\n",
       "      <td>2</td>\n",
       "      <td>2017</td>\n",
       "      <td>Pune</td>\n",
       "      <td>2017-04-06</td>\n",
       "      <td>Mumbai Indians</td>\n",
       "      <td>Rising Pune Supergiant</td>\n",
       "      <td>Rising Pune Supergiant</td>\n",
       "      <td>field</td>\n",
       "      <td>normal</td>\n",
       "      <td>0</td>\n",
       "      <td>Rising Pune Supergiant</td>\n",
       "      <td>0</td>\n",
       "      <td>7</td>\n",
       "      <td>SPD Smith</td>\n",
       "      <td>Maharashtra Cricket Association Stadium</td>\n",
       "      <td>A Nand Kishore</td>\n",
       "      <td>S Ravi</td>\n",
       "      <td>NaN</td>\n",
       "    </tr>\n",
       "    <tr>\n",
       "      <th>2</th>\n",
       "      <td>3</td>\n",
       "      <td>2017</td>\n",
       "      <td>Rajkot</td>\n",
       "      <td>2017-04-07</td>\n",
       "      <td>Gujarat Lions</td>\n",
       "      <td>Kolkata Knight Riders</td>\n",
       "      <td>Kolkata Knight Riders</td>\n",
       "      <td>field</td>\n",
       "      <td>normal</td>\n",
       "      <td>0</td>\n",
       "      <td>Kolkata Knight Riders</td>\n",
       "      <td>0</td>\n",
       "      <td>10</td>\n",
       "      <td>CA Lynn</td>\n",
       "      <td>Saurashtra Cricket Association Stadium</td>\n",
       "      <td>Nitin Menon</td>\n",
       "      <td>CK Nandan</td>\n",
       "      <td>NaN</td>\n",
       "    </tr>\n",
       "    <tr>\n",
       "      <th>3</th>\n",
       "      <td>4</td>\n",
       "      <td>2017</td>\n",
       "      <td>Indore</td>\n",
       "      <td>2017-04-08</td>\n",
       "      <td>Rising Pune Supergiant</td>\n",
       "      <td>Kings XI Punjab</td>\n",
       "      <td>Kings XI Punjab</td>\n",
       "      <td>field</td>\n",
       "      <td>normal</td>\n",
       "      <td>0</td>\n",
       "      <td>Kings XI Punjab</td>\n",
       "      <td>0</td>\n",
       "      <td>6</td>\n",
       "      <td>GJ Maxwell</td>\n",
       "      <td>Holkar Cricket Stadium</td>\n",
       "      <td>AK Chaudhary</td>\n",
       "      <td>C Shamshuddin</td>\n",
       "      <td>NaN</td>\n",
       "    </tr>\n",
       "    <tr>\n",
       "      <th>4</th>\n",
       "      <td>5</td>\n",
       "      <td>2017</td>\n",
       "      <td>Bangalore</td>\n",
       "      <td>2017-04-08</td>\n",
       "      <td>Royal Challengers Bangalore</td>\n",
       "      <td>Delhi Daredevils</td>\n",
       "      <td>Royal Challengers Bangalore</td>\n",
       "      <td>bat</td>\n",
       "      <td>normal</td>\n",
       "      <td>0</td>\n",
       "      <td>Royal Challengers Bangalore</td>\n",
       "      <td>15</td>\n",
       "      <td>0</td>\n",
       "      <td>KM Jadhav</td>\n",
       "      <td>M Chinnaswamy Stadium</td>\n",
       "      <td>NaN</td>\n",
       "      <td>NaN</td>\n",
       "      <td>NaN</td>\n",
       "    </tr>\n",
       "  </tbody>\n",
       "</table>\n",
       "</div>"
      ],
      "text/plain": [
       "   id  season       city        date                        team1  \\\n",
       "0   1    2017  Hyderabad  2017-04-05          Sunrisers Hyderabad   \n",
       "1   2    2017       Pune  2017-04-06               Mumbai Indians   \n",
       "2   3    2017     Rajkot  2017-04-07                Gujarat Lions   \n",
       "3   4    2017     Indore  2017-04-08       Rising Pune Supergiant   \n",
       "4   5    2017  Bangalore  2017-04-08  Royal Challengers Bangalore   \n",
       "\n",
       "                         team2                  toss_winner toss_decision  \\\n",
       "0  Royal Challengers Bangalore  Royal Challengers Bangalore         field   \n",
       "1       Rising Pune Supergiant       Rising Pune Supergiant         field   \n",
       "2        Kolkata Knight Riders        Kolkata Knight Riders         field   \n",
       "3              Kings XI Punjab              Kings XI Punjab         field   \n",
       "4             Delhi Daredevils  Royal Challengers Bangalore           bat   \n",
       "\n",
       "   result  dl_applied                       winner  win_by_runs  \\\n",
       "0  normal           0          Sunrisers Hyderabad           35   \n",
       "1  normal           0       Rising Pune Supergiant            0   \n",
       "2  normal           0        Kolkata Knight Riders            0   \n",
       "3  normal           0              Kings XI Punjab            0   \n",
       "4  normal           0  Royal Challengers Bangalore           15   \n",
       "\n",
       "   win_by_wickets player_of_match                                      venue  \\\n",
       "0               0    Yuvraj Singh  Rajiv Gandhi International Stadium, Uppal   \n",
       "1               7       SPD Smith    Maharashtra Cricket Association Stadium   \n",
       "2              10         CA Lynn     Saurashtra Cricket Association Stadium   \n",
       "3               6      GJ Maxwell                     Holkar Cricket Stadium   \n",
       "4               0       KM Jadhav                      M Chinnaswamy Stadium   \n",
       "\n",
       "          umpire1        umpire2 umpire3  \n",
       "0     AY Dandekar       NJ Llong     NaN  \n",
       "1  A Nand Kishore         S Ravi     NaN  \n",
       "2     Nitin Menon      CK Nandan     NaN  \n",
       "3    AK Chaudhary  C Shamshuddin     NaN  \n",
       "4             NaN            NaN     NaN  "
      ]
     },
     "execution_count": 254,
     "metadata": {},
     "output_type": "execute_result"
    }
   ],
   "source": [
    "# loading data\n",
    "df=pd.read_csv(\"matches.csv\")\n",
    "df.head()"
   ]
  },
  {
   "cell_type": "markdown",
   "id": "046274a0-87b9-423b-bbbd-9363dd5eb51a",
   "metadata": {},
   "source": [
    "## Data Wrangling"
   ]
  },
  {
   "cell_type": "code",
   "execution_count": 196,
   "id": "0ab09d94-db19-407c-ad6a-b25504484a22",
   "metadata": {},
   "outputs": [
    {
     "data": {
      "text/html": [
       "<div>\n",
       "<style scoped>\n",
       "    .dataframe tbody tr th:only-of-type {\n",
       "        vertical-align: middle;\n",
       "    }\n",
       "\n",
       "    .dataframe tbody tr th {\n",
       "        vertical-align: top;\n",
       "    }\n",
       "\n",
       "    .dataframe thead th {\n",
       "        text-align: right;\n",
       "    }\n",
       "</style>\n",
       "<table border=\"1\" class=\"dataframe\">\n",
       "  <thead>\n",
       "    <tr style=\"text-align: right;\">\n",
       "      <th></th>\n",
       "      <th>id</th>\n",
       "      <th>season</th>\n",
       "      <th>city</th>\n",
       "      <th>date</th>\n",
       "      <th>team1</th>\n",
       "      <th>team2</th>\n",
       "      <th>toss_winner</th>\n",
       "      <th>toss_decision</th>\n",
       "      <th>result</th>\n",
       "      <th>dl_applied</th>\n",
       "      <th>winner</th>\n",
       "      <th>win_by_runs</th>\n",
       "      <th>win_by_wickets</th>\n",
       "      <th>player_of_match</th>\n",
       "      <th>venue</th>\n",
       "      <th>umpire1</th>\n",
       "      <th>umpire2</th>\n",
       "      <th>umpire3</th>\n",
       "    </tr>\n",
       "  </thead>\n",
       "  <tbody>\n",
       "    <tr>\n",
       "      <th>0</th>\n",
       "      <td>1</td>\n",
       "      <td>2017</td>\n",
       "      <td>Hyderabad</td>\n",
       "      <td>2017-04-05</td>\n",
       "      <td>SRH</td>\n",
       "      <td>RCB</td>\n",
       "      <td>RCB</td>\n",
       "      <td>field</td>\n",
       "      <td>normal</td>\n",
       "      <td>0</td>\n",
       "      <td>SRH</td>\n",
       "      <td>35</td>\n",
       "      <td>0</td>\n",
       "      <td>Yuvraj Singh</td>\n",
       "      <td>Rajiv Gandhi International Stadium, Uppal</td>\n",
       "      <td>AY Dandekar</td>\n",
       "      <td>NJ Llong</td>\n",
       "      <td>NaN</td>\n",
       "    </tr>\n",
       "    <tr>\n",
       "      <th>1</th>\n",
       "      <td>2</td>\n",
       "      <td>2017</td>\n",
       "      <td>Pune</td>\n",
       "      <td>2017-04-06</td>\n",
       "      <td>MI</td>\n",
       "      <td>RPS</td>\n",
       "      <td>RPS</td>\n",
       "      <td>field</td>\n",
       "      <td>normal</td>\n",
       "      <td>0</td>\n",
       "      <td>RPS</td>\n",
       "      <td>0</td>\n",
       "      <td>7</td>\n",
       "      <td>SPD Smith</td>\n",
       "      <td>Maharashtra Cricket Association Stadium</td>\n",
       "      <td>A Nand Kishore</td>\n",
       "      <td>S Ravi</td>\n",
       "      <td>NaN</td>\n",
       "    </tr>\n",
       "    <tr>\n",
       "      <th>2</th>\n",
       "      <td>3</td>\n",
       "      <td>2017</td>\n",
       "      <td>Rajkot</td>\n",
       "      <td>2017-04-07</td>\n",
       "      <td>GL</td>\n",
       "      <td>KKR</td>\n",
       "      <td>KKR</td>\n",
       "      <td>field</td>\n",
       "      <td>normal</td>\n",
       "      <td>0</td>\n",
       "      <td>KKR</td>\n",
       "      <td>0</td>\n",
       "      <td>10</td>\n",
       "      <td>CA Lynn</td>\n",
       "      <td>Saurashtra Cricket Association Stadium</td>\n",
       "      <td>Nitin Menon</td>\n",
       "      <td>CK Nandan</td>\n",
       "      <td>NaN</td>\n",
       "    </tr>\n",
       "    <tr>\n",
       "      <th>3</th>\n",
       "      <td>4</td>\n",
       "      <td>2017</td>\n",
       "      <td>Indore</td>\n",
       "      <td>2017-04-08</td>\n",
       "      <td>RPS</td>\n",
       "      <td>KXIP</td>\n",
       "      <td>KXIP</td>\n",
       "      <td>field</td>\n",
       "      <td>normal</td>\n",
       "      <td>0</td>\n",
       "      <td>KXIP</td>\n",
       "      <td>0</td>\n",
       "      <td>6</td>\n",
       "      <td>GJ Maxwell</td>\n",
       "      <td>Holkar Cricket Stadium</td>\n",
       "      <td>AK Chaudhary</td>\n",
       "      <td>C Shamshuddin</td>\n",
       "      <td>NaN</td>\n",
       "    </tr>\n",
       "    <tr>\n",
       "      <th>4</th>\n",
       "      <td>5</td>\n",
       "      <td>2017</td>\n",
       "      <td>Bangalore</td>\n",
       "      <td>2017-04-08</td>\n",
       "      <td>RCB</td>\n",
       "      <td>DD</td>\n",
       "      <td>RCB</td>\n",
       "      <td>bat</td>\n",
       "      <td>normal</td>\n",
       "      <td>0</td>\n",
       "      <td>RCB</td>\n",
       "      <td>15</td>\n",
       "      <td>0</td>\n",
       "      <td>KM Jadhav</td>\n",
       "      <td>M Chinnaswamy Stadium</td>\n",
       "      <td>NaN</td>\n",
       "      <td>NaN</td>\n",
       "      <td>NaN</td>\n",
       "    </tr>\n",
       "  </tbody>\n",
       "</table>\n",
       "</div>"
      ],
      "text/plain": [
       "   id  season       city        date team1 team2 toss_winner toss_decision  \\\n",
       "0   1    2017  Hyderabad  2017-04-05   SRH   RCB         RCB         field   \n",
       "1   2    2017       Pune  2017-04-06    MI   RPS         RPS         field   \n",
       "2   3    2017     Rajkot  2017-04-07    GL   KKR         KKR         field   \n",
       "3   4    2017     Indore  2017-04-08   RPS  KXIP        KXIP         field   \n",
       "4   5    2017  Bangalore  2017-04-08   RCB    DD         RCB           bat   \n",
       "\n",
       "   result  dl_applied winner  win_by_runs  win_by_wickets player_of_match  \\\n",
       "0  normal           0    SRH           35               0    Yuvraj Singh   \n",
       "1  normal           0    RPS            0               7       SPD Smith   \n",
       "2  normal           0    KKR            0              10         CA Lynn   \n",
       "3  normal           0   KXIP            0               6      GJ Maxwell   \n",
       "4  normal           0    RCB           15               0       KM Jadhav   \n",
       "\n",
       "                                       venue         umpire1        umpire2  \\\n",
       "0  Rajiv Gandhi International Stadium, Uppal     AY Dandekar       NJ Llong   \n",
       "1    Maharashtra Cricket Association Stadium  A Nand Kishore         S Ravi   \n",
       "2     Saurashtra Cricket Association Stadium     Nitin Menon      CK Nandan   \n",
       "3                     Holkar Cricket Stadium    AK Chaudhary  C Shamshuddin   \n",
       "4                      M Chinnaswamy Stadium             NaN            NaN   \n",
       "\n",
       "  umpire3  \n",
       "0     NaN  \n",
       "1     NaN  \n",
       "2     NaN  \n",
       "3     NaN  \n",
       "4     NaN  "
      ]
     },
     "execution_count": 196,
     "metadata": {},
     "output_type": "execute_result"
    }
   ],
   "source": [
    "# replacing the team names by their short forms for better readibility\n",
    "short_forms = {\n",
    "    \"Mumbai Indians\": \"MI\",\n",
    "    \"Chennai Super Kings\": \"CSK\",\n",
    "    \"Kolkata Knight Riders\": \"KKR\",\n",
    "    \"Royal Challengers Bangalore\": \"RCB\",\n",
    "    \"Kings XI Punjab\": \"KXIP\",\n",
    "    \"Rajasthan Royals\": \"RR\",\n",
    "    \"Delhi Daredevils\": \"DD\",\n",
    "    \"Sunrisers Hyderabad\": \"SRH\",\n",
    "    \"Deccan Chargers\": \"DC\",\n",
    "    \"Gujarat Lions\": \"GL\",\n",
    "    \"Pune Warriors\": \"PW\",\n",
    "    \"Rising Pune Supergiant\": \"RPS\",\n",
    "    \"Delhi Capitals\": \"DCap\",\n",
    "    \"Kochi Tuskers Kerala\": \"KTK\",\n",
    "    \"Rising Pune Supergiants\": \"RPSG\"\n",
    "}\n",
    "\n",
    "for name, short_form in short_forms.items():\n",
    "    df.replace(name, short_form, inplace=True)\n",
    "df.head()"
   ]
  },
  {
   "cell_type": "code",
   "execution_count": 247,
   "id": "c5f755fb-0949-47c4-b1e4-321d36a63022",
   "metadata": {},
   "outputs": [
    {
     "name": "stdout",
     "output_type": "stream",
     "text": [
      "<class 'pandas.core.frame.DataFrame'>\n",
      "Int64Index: 743 entries, 0 to 755\n",
      "Data columns (total 17 columns):\n",
      " #   Column           Non-Null Count  Dtype \n",
      "---  ------           --------------  ----- \n",
      " 0   id               743 non-null    int64 \n",
      " 1   season           743 non-null    int64 \n",
      " 2   city             743 non-null    object\n",
      " 3   date             743 non-null    object\n",
      " 4   team1            743 non-null    object\n",
      " 5   team2            743 non-null    object\n",
      " 6   toss_winner      743 non-null    object\n",
      " 7   toss_decision    743 non-null    object\n",
      " 8   result           743 non-null    object\n",
      " 9   dl_applied       743 non-null    int64 \n",
      " 10  winner           743 non-null    object\n",
      " 11  win_by_runs      743 non-null    int64 \n",
      " 12  win_by_wickets   743 non-null    int64 \n",
      " 13  player_of_match  743 non-null    object\n",
      " 14  venue            743 non-null    object\n",
      " 15  umpire1          743 non-null    object\n",
      " 16  umpire2          743 non-null    object\n",
      "dtypes: int64(5), object(12)\n",
      "memory usage: 104.5+ KB\n"
     ]
    }
   ],
   "source": [
    "df.info()"
   ]
  },
  {
   "cell_type": "markdown",
   "id": "69cd145d-5df5-4c5c-a307-6efdd385aaea",
   "metadata": {},
   "source": [
    "## Dealing with null values"
   ]
  },
  {
   "cell_type": "code",
   "execution_count": 197,
   "id": "6c04286d-ad4f-4e5f-b1bd-2168b898397f",
   "metadata": {},
   "outputs": [
    {
     "data": {
      "image/png": "[encoded data removed]",
      "text/plain": [
       "<Figure size 640x480 with 1 Axes>"
      ]
     },
     "metadata": {},
     "output_type": "display_data"
    }
   ],
   "source": [
    "# Checking for null values\n",
    "missing_count=df.isna().sum()\n",
    "y=missing_count.index\n",
    "val=missing_count.values\n",
    "# plt.figure(figsize=(15,8))\n",
    "ax=sns.barplot(x=val, y=y, orient='h')\n",
    "ax.bar_label(ax.containers[0])\n",
    "plt.title(\"Null values count\")\n",
    "plt.show()"
   ]
  },
  {
   "cell_type": "code",
   "execution_count": 198,
   "id": "4ad18be0-30f9-4123-8976-8075d32e2bab",
   "metadata": {},
   "outputs": [],
   "source": [
    "# drop the umpire3 column as most of the rows are null \n",
    "df.drop(\"umpire3\", axis=\"columns\" , inplace=True)"
   ]
  },
  {
   "cell_type": "code",
   "execution_count": 199,
   "id": "efd1e5da-37ec-427f-b955-fb1e08c329b4",
   "metadata": {},
   "outputs": [],
   "source": [
    "df.dropna(inplace=True)"
   ]
  },
  {
   "cell_type": "code",
   "execution_count": 200,
   "id": "e3406725-98d7-4d9b-b59f-6be1a8b811cd",
   "metadata": {},
   "outputs": [
    {
     "name": "stdout",
     "output_type": "stream",
     "text": [
      "<class 'pandas.core.frame.DataFrame'>\n",
      "Int64Index: 743 entries, 0 to 755\n",
      "Data columns (total 17 columns):\n",
      " #   Column           Non-Null Count  Dtype \n",
      "---  ------           --------------  ----- \n",
      " 0   id               743 non-null    int64 \n",
      " 1   season           743 non-null    int64 \n",
      " 2   city             743 non-null    object\n",
      " 3   date             743 non-null    object\n",
      " 4   team1            743 non-null    object\n",
      " 5   team2            743 non-null    object\n",
      " 6   toss_winner      743 non-null    object\n",
      " 7   toss_decision    743 non-null    object\n",
      " 8   result           743 non-null    object\n",
      " 9   dl_applied       743 non-null    int64 \n",
      " 10  winner           743 non-null    object\n",
      " 11  win_by_runs      743 non-null    int64 \n",
      " 12  win_by_wickets   743 non-null    int64 \n",
      " 13  player_of_match  743 non-null    object\n",
      " 14  venue            743 non-null    object\n",
      " 15  umpire1          743 non-null    object\n",
      " 16  umpire2          743 non-null    object\n",
      "dtypes: int64(5), object(12)\n",
      "memory usage: 104.5+ KB\n"
     ]
    }
   ],
   "source": [
    "df.info()"
   ]
  },
  {
   "cell_type": "code",
   "execution_count": 201,
   "id": "b034deeb-eb9b-48f9-be9e-8a12dabcd819",
   "metadata": {},
   "outputs": [
    {
     "data": {
      "text/html": [
       "<div>\n",
       "<style scoped>\n",
       "    .dataframe tbody tr th:only-of-type {\n",
       "        vertical-align: middle;\n",
       "    }\n",
       "\n",
       "    .dataframe tbody tr th {\n",
       "        vertical-align: top;\n",
       "    }\n",
       "\n",
       "    .dataframe thead th {\n",
       "        text-align: right;\n",
       "    }\n",
       "</style>\n",
       "<table border=\"1\" class=\"dataframe\">\n",
       "  <thead>\n",
       "    <tr style=\"text-align: right;\">\n",
       "      <th></th>\n",
       "      <th>id</th>\n",
       "      <th>season</th>\n",
       "      <th>dl_applied</th>\n",
       "      <th>win_by_runs</th>\n",
       "      <th>win_by_wickets</th>\n",
       "    </tr>\n",
       "  </thead>\n",
       "  <tbody>\n",
       "    <tr>\n",
       "      <th>count</th>\n",
       "      <td>743.000000</td>\n",
       "      <td>743.000000</td>\n",
       "      <td>743.000000</td>\n",
       "      <td>743.000000</td>\n",
       "      <td>743.000000</td>\n",
       "    </tr>\n",
       "    <tr>\n",
       "      <th>mean</th>\n",
       "      <td>1786.578735</td>\n",
       "      <td>2013.418573</td>\n",
       "      <td>0.025572</td>\n",
       "      <td>13.460296</td>\n",
       "      <td>3.375505</td>\n",
       "    </tr>\n",
       "    <tr>\n",
       "      <th>std</th>\n",
       "      <td>3455.045846</td>\n",
       "      <td>3.378787</td>\n",
       "      <td>0.157961</td>\n",
       "      <td>23.626205</td>\n",
       "      <td>3.393397</td>\n",
       "    </tr>\n",
       "    <tr>\n",
       "      <th>min</th>\n",
       "      <td>1.000000</td>\n",
       "      <td>2008.000000</td>\n",
       "      <td>0.000000</td>\n",
       "      <td>0.000000</td>\n",
       "      <td>0.000000</td>\n",
       "    </tr>\n",
       "    <tr>\n",
       "      <th>25%</th>\n",
       "      <td>187.500000</td>\n",
       "      <td>2011.000000</td>\n",
       "      <td>0.000000</td>\n",
       "      <td>0.000000</td>\n",
       "      <td>0.000000</td>\n",
       "    </tr>\n",
       "    <tr>\n",
       "      <th>50%</th>\n",
       "      <td>374.000000</td>\n",
       "      <td>2013.000000</td>\n",
       "      <td>0.000000</td>\n",
       "      <td>0.000000</td>\n",
       "      <td>4.000000</td>\n",
       "    </tr>\n",
       "    <tr>\n",
       "      <th>75%</th>\n",
       "      <td>567.500000</td>\n",
       "      <td>2016.000000</td>\n",
       "      <td>0.000000</td>\n",
       "      <td>19.000000</td>\n",
       "      <td>6.000000</td>\n",
       "    </tr>\n",
       "    <tr>\n",
       "      <th>max</th>\n",
       "      <td>11415.000000</td>\n",
       "      <td>2019.000000</td>\n",
       "      <td>1.000000</td>\n",
       "      <td>146.000000</td>\n",
       "      <td>10.000000</td>\n",
       "    </tr>\n",
       "  </tbody>\n",
       "</table>\n",
       "</div>"
      ],
      "text/plain": [
       "                 id       season  dl_applied  win_by_runs  win_by_wickets\n",
       "count    743.000000   743.000000  743.000000   743.000000      743.000000\n",
       "mean    1786.578735  2013.418573    0.025572    13.460296        3.375505\n",
       "std     3455.045846     3.378787    0.157961    23.626205        3.393397\n",
       "min        1.000000  2008.000000    0.000000     0.000000        0.000000\n",
       "25%      187.500000  2011.000000    0.000000     0.000000        0.000000\n",
       "50%      374.000000  2013.000000    0.000000     0.000000        4.000000\n",
       "75%      567.500000  2016.000000    0.000000    19.000000        6.000000\n",
       "max    11415.000000  2019.000000    1.000000   146.000000       10.000000"
      ]
     },
     "execution_count": 201,
     "metadata": {},
     "output_type": "execute_result"
    }
   ],
   "source": [
    "df.describe()"
   ]
  },
  {
   "cell_type": "code",
   "execution_count": 202,
   "id": "c12fbf0e-bc87-4703-b06c-64ddd8d7b761",
   "metadata": {},
   "outputs": [
    {
     "data": {
      "text/plain": [
       "0      False\n",
       "1      False\n",
       "2      False\n",
       "3      False\n",
       "5      False\n",
       "       ...  \n",
       "750    False\n",
       "751    False\n",
       "752    False\n",
       "754    False\n",
       "755    False\n",
       "Length: 743, dtype: bool"
      ]
     },
     "execution_count": 202,
     "metadata": {},
     "output_type": "execute_result"
    }
   ],
   "source": [
    "df.duplicated()\n",
    "# no duplicates are found"
   ]
  },
  {
   "cell_type": "markdown",
   "id": "69e9b3b7-c7c3-4a8f-8d69-46995497ea9a",
   "metadata": {},
   "source": [
    "# Visualisation"
   ]
  },
  {
   "cell_type": "code",
   "execution_count": 203,
   "id": "6c70535d-2de2-474d-b8ee-5a8f43af8aff",
   "metadata": {},
   "outputs": [
    {
     "data": {
      "text/plain": [
       "Index(['id', 'season', 'city', 'date', 'team1', 'team2', 'toss_winner',\n",
       "       'toss_decision', 'result', 'dl_applied', 'winner', 'win_by_runs',\n",
       "       'win_by_wickets', 'player_of_match', 'venue', 'umpire1', 'umpire2'],\n",
       "      dtype='object')"
      ]
     },
     "execution_count": 203,
     "metadata": {},
     "output_type": "execute_result"
    }
   ],
   "source": [
    "df.columns"
   ]
  },
  {
   "cell_type": "code",
   "execution_count": 204,
   "id": "2284621b-31bd-4f61-9775-1aa9e87cd170",
   "metadata": {},
   "outputs": [
    {
     "data": {
      "text/plain": [
       "season\n",
       "2008    58\n",
       "2009    57\n",
       "2010    60\n",
       "2011    72\n",
       "2012    74\n",
       "2013    76\n",
       "2014    53\n",
       "2015    57\n",
       "2016    60\n",
       "2017    58\n",
       "2018    60\n",
       "2019    58\n",
       "dtype: int64"
      ]
     },
     "execution_count": 204,
     "metadata": {},
     "output_type": "execute_result"
    }
   ],
   "source": [
    "match_count=df.groupby('season').size()\n",
    "match_count"
   ]
  },
  {
   "cell_type": "code",
   "execution_count": 205,
   "id": "82b0ba5d-fb9f-4d89-95ba-859a96174b82",
   "metadata": {},
   "outputs": [
    {
     "data": {
      "image/png": "[encoded data removed]",
      "text/plain": [
       "<Figure size 640x480 with 1 Axes>"
      ]
     },
     "metadata": {},
     "output_type": "display_data"
    }
   ],
   "source": [
    "x=match_count.index\n",
    "y=match_count.values\n",
    "plt.plot(x, y, marker='o')\n",
    "plt.xticks(x)\n",
    "plt.xlabel(\"Number of matches won\")\n",
    "plt.ylabel(\"Season\")\n",
    "plt.title(\"Number of matches played in each season\")\n",
    "plt.show()"
   ]
  },
  {
   "cell_type": "markdown",
   "id": "59a59e01-ea1e-47c6-8557-72aa9c834375",
   "metadata": {},
   "source": [
    "## Insights\n",
    "\n",
    "1. **Increasing Trend**:\n",
    "   - There is a noticeable increasing trend in the number of matches played from 2008 to 2013, peaking in 2013. The number of matches played increased from about 56 matches in 2008 to around 76 matches in 2013.\n",
    "\n",
    "2. **Sudden Drop**:\n",
    "   - There is a sharp decline in the number of matches played in 2014, dropping to about 59 matches. This significant decrease could be due to changes in the tournament format, scheduling conflicts, or other external factors affecting the league.\n",
    "\n",
    "3. **Fluctuations Post-2014**:\n",
    "   - After 2014, the number of matches played each season shows fluctuations. The number of matches remained relatively stable between 2015 and 2019, ranging between 60 and 65 matches.\n",
    "\n",
    "## Interpretation\n",
    "\n",
    "- The increase in the number of matches up to 2013 suggests a growing popularity and expansion of the tournament during these years.\n",
    "- The sharp decline in 2014 indicates a major change or disruption in the tournament structure or scheduling.\n",
    "- The fluctuations and relative stabilization post-2014 suggest adjustments were made to the tournament format, possibly balancing the league's logistics and viewer engagement.\n",
    "\n",
    "This line chart provides a clear visual representation of how the number of matches played in each season has changed over the years, offering insights into the league's evolution and adjustments.\n"
   ]
  },
  {
   "cell_type": "code",
   "execution_count": 206,
   "id": "a37f7c8a-fe69-43b0-8b64-711a79ccec25",
   "metadata": {},
   "outputs": [
    {
     "data": {
      "text/plain": [
       "MI      109\n",
       "CSK      98\n",
       "KKR      92\n",
       "RCB      82\n",
       "KXIP     81\n",
       "RR       75\n",
       "DD       66\n",
       "SRH      56\n",
       "DC       29\n",
       "GL       13\n",
       "PW       12\n",
       "RPS      10\n",
       "DCap      9\n",
       "KTK       6\n",
       "RPSG      5\n",
       "Name: winner, dtype: int64"
      ]
     },
     "execution_count": 206,
     "metadata": {},
     "output_type": "execute_result"
    }
   ],
   "source": [
    "matches_won_by_team = df['winner'].value_counts()\n",
    "matches_won_by_team"
   ]
  },
  {
   "cell_type": "code",
   "execution_count": 248,
   "id": "5b718f82-021a-477b-8783-69f271aea3b3",
   "metadata": {},
   "outputs": [
    {
     "data": {
      "image/png": "[encoded data removed]",
      "text/plain": [
       "<Figure size 640x480 with 1 Axes>"
      ]
     },
     "metadata": {},
     "output_type": "display_data"
    }
   ],
   "source": [
    "teams=matches_won_by_team.index.values\n",
    "y=matches_won_by_team.values\n",
    "ax=sns.barplot(x=teams, y=y)\n",
    "ax.bar_label(ax.containers[0])\n",
    "plt.title(\"Number of matches won by teams\")\n",
    "plt.show()"
   ]
  },
  {
   "cell_type": "markdown",
   "id": "3593bf12-4530-4dfc-994f-0675b069c84c",
   "metadata": {},
   "source": [
    "## Insights\n",
    "\n",
    "1. **Top Performing Teams**:\n",
    "   - **MI (Mumbai Indians)** leads with 109 wins, making them the most successful team in terms of matches won.\n",
    "   - **CSK (Chennai Super Kings)** follows closely with 98 wins.\n",
    "   - **KKR (Kolkata Knight Riders)** and **RCB (Royal Challengers Bangalore)** have 92 and 82 wins respectively, showing strong performances.\n",
    "\n",
    "2. **Mid-tier Teams**:\n",
    "   - Teams like **KXIP (Kings XI Punjab)**, **RR (Rajasthan Royals)**, and **DD (Delhi Daredevils)** have a moderate number of wins, with KXIP at 81 wins, RR at 75 wins, and DD at 66 wins.\n",
    "\n",
    "3. **Lower Performing Teams**:\n",
    "   - **SRH (Sunrisers Hyderabad)** and **DC (Delhi Capitals)** have 56 and 29 wins respectively.\n",
    "   - **GL (Gujarat Lions)**, **PW (Pune Warriors)**, and **RPS (Rising Pune Supergiant)** have fewer wins, with GL at 13, PW at 12, and RPS at 10 wins.\n",
    "\n",
    "4. **Least Wins**:\n",
    "   - **DCap (Delhi Capitals)**, **KTK (Kochi Tuskers Kerala)**, and **RPSG (Rising Pune Supergiant)** are at the bottom with 9, 6, and 5 wins respectively.\n",
    "\n",
    "## Interpretation\n",
    "\n",
    "- **Mumbai Indians (MI)** and **Chennai Super Kings (CSK)** have been the most dominant teams in the league, showcasing consistent performance over the seasons.\n",
    "- **Kolkata Knight Riders (KKR)** and **Royal Challengers Bangalore (RCB)** also have strong win records, indicating their competitive presence in the tournament.\n",
    "- The lower number of wins for teams like **Deccan Chargers (DCap)**, **Kochi Tuskers Kerala (KTK)**, and **Rising Pune Supergiant (RPSG)** might be due to fewer seasons played or lower overall performance.\n",
    "\n",
    "This bar chart provides a clear visual representation of the number of matches won by each team, highlighting the most and least successful teams in the tournament's history.\n"
   ]
  },
  {
   "cell_type": "code",
   "execution_count": 250,
   "id": "fee5000f-a1fc-4735-8be4-131af6ad7ea5",
   "metadata": {},
   "outputs": [
    {
     "data": {
      "text/plain": [
       "CSK     60.493827\n",
       "DC      38.666667\n",
       "DCap    60.000000\n",
       "DD      42.307692\n",
       "GL      43.333333\n",
       "KKR     51.977401\n",
       "KTK     42.857143\n",
       "KXIP    46.285714\n",
       "MI      59.239130\n",
       "PW      26.666667\n",
       "RCB     47.126437\n",
       "RPS     62.500000\n",
       "RPSG    35.714286\n",
       "RR      52.083333\n",
       "SRH     53.333333\n",
       "dtype: float64"
      ]
     },
     "execution_count": 250,
     "metadata": {},
     "output_type": "execute_result"
    }
   ],
   "source": [
    "# Load the data into a DataFrame (assuming the data is in a CSV file named 'matches.csv')\n",
    "team1_matches = df['team1'].value_counts()\n",
    "\n",
    "# Count the number of matches played by each team as team2\n",
    "team2_matches = df['team2'].value_counts()\n",
    "\n",
    "# Combine the counts to get the total number of matches played by each team\n",
    "total_matches = team1_matches.add(team2_matches, fill_value=0).astype(int)\n",
    "perct_win=matches_won_by_team*100/total_matches\n",
    "perct_win"
   ]
  },
  {
   "cell_type": "markdown",
   "id": "d223f5e9-0ccc-4210-93b7-1f8a80ae6006",
   "metadata": {},
   "source": [
    "# IPL Matches: Normal vs Tied"
   ]
  },
  {
   "cell_type": "code",
   "execution_count": 249,
   "id": "1478a735-9f62-4967-a66f-b45b409a11fb",
   "metadata": {},
   "outputs": [
    {
     "data": {
      "image/png": "[encoded data removed]",
      "text/plain": [
       "<Figure size 640x480 with 1 Axes>"
      ]
     },
     "metadata": {},
     "output_type": "display_data"
    }
   ],
   "source": [
    "result_type=df['result'].unique()\n",
    "y=df['result'].value_counts().values\n",
    "# plt.figure(figsize=(8,6))\n",
    "plt.pie(y, labels=result_type, autopct='%1.1f%%')\n",
    "plt.title(\"Normal v/s tied matches\")\n",
    "plt.show()"
   ]
  },
  {
   "cell_type": "markdown",
   "id": "084a5cb0-f585-4198-932d-ea7a3ea1fb39",
   "metadata": {},
   "source": [
    "## Analysis of IPL Matches: Normal vs Tied\n",
    "\n",
    "## Distribution of Matches\n",
    "- **Normal Matches:** 98.8%\n",
    "- **Tied Matches:** 1.2%\n",
    "\n",
    "## Patterns and Interpretation\n",
    "1. **Normal Matches:** \n",
    "   - Represent a significant majority at 98.8%.\n",
    "2. **Tied Matches:** \n",
    "   - Represent a small minority at 1.2%.\n",
    "\n",
    "## Implications\n",
    "- The overwhelming majority of IPL matches result in a clear outcome (a win for one team), as indicated by the 98.8% for normal matches.\n",
    "- Tied matches are rare, occurring only 1.2% of the time. This suggests that most IPL matches are decided within the regular match constraints and are rarely so evenly matched that they result in a tie.\n",
    "## Conclusion\n",
    "The pie chart effectively highlights the rarity of tied matches in the IPL, reinforcing the dominance of normal match results in the league's history.\n"
   ]
  },
  {
   "cell_type": "markdown",
   "id": "71148bba-093a-4fe3-a063-8d4d5068c64d",
   "metadata": {},
   "source": [
    "# Analysis of Matches Won by Batting First vs. Batting Second in IPL\n"
   ]
  },
  {
   "cell_type": "code",
   "execution_count": 239,
   "id": "9516f104-df59-4dfe-8721-01693e83f57d",
   "metadata": {},
   "outputs": [
    {
     "data": {
      "image/png": "[encoded data removed]",
      "text/plain": [
       "<Figure size 1000x600 with 1 Axes>"
      ]
     },
     "metadata": {},
     "output_type": "display_data"
    }
   ],
   "source": [
    "batting_first_wins = df[df['toss_decision'] == 'bat']['winner'].value_counts()\n",
    "\n",
    "# Count the number of matches won by teams batting second\n",
    "batting_second_wins = df[df['toss_decision'] == 'field']['winner'].value_counts()\n",
    "\n",
    "# Plot the counts of matches won by teams batting first and second\n",
    "plt.figure(figsize=(10, 6))\n",
    "batting_first_wins.plot(kind='bar', color='skyblue', width=0.4, position=1, label='Batting First')\n",
    "batting_second_wins.plot(kind='bar', color='orange', width=0.4, position=0, label='Batting Second')\n",
    "plt.title('Matches Won by Batting First vs. Batting Second')\n",
    "plt.xlabel('Team')\n",
    "plt.ylabel('Number of Matches Won')\n",
    "plt.legend()\n",
    "# plt.xticks(rotation=90)\n",
    "plt.grid(axis='y')\n",
    "plt.show()"
   ]
  },
  {
   "cell_type": "markdown",
   "id": "42ffee8e-29f2-405a-a222-5d35575e7daf",
   "metadata": {},
   "source": [
    "## Analysis of Matches Won by Batting First vs. Batting Second in IPL\n",
    "\n",
    "## Overview\n",
    "The bar chart compares the number of matches won by different IPL teams when batting first (blue bars) versus batting second (orange bars). \n",
    "\n",
    "## Observations by Team\n",
    "\n",
    "1. **MI (Mumbai Indians)**\n",
    "   - **Batting First:** 45 wins\n",
    "   - **Batting Second:** 64 wins\n",
    "   - **Pattern:** MI has won more matches when batting second.\n",
    "\n",
    "2. **KXIP (Kings XI Punjab)**\n",
    "   - **Batting First:** 21 wins\n",
    "   - **Batting Second:** 60 wins\n",
    "   - **Pattern:** KXIP has a significantly higher number of wins when batting second.\n",
    "\n",
    "3. **KKR (Kolkata Knight Riders)**\n",
    "   - **Batting First:** 35 wins\n",
    "   - **Batting Second:** 57 wins\n",
    "   - **Pattern:** KKR also performs better when batting second.\n",
    "\n",
    "4. **RCB (Royal Challengers Bangalore)**\n",
    "   - **Batting First:** 25 wins\n",
    "   - **Batting Second:** 57 wins\n",
    "   - **Pattern:** More successful when chasing.\n",
    "\n",
    "5. **CSK (Chennai Super Kings)**\n",
    "   - **Batting First:** 51 wins\n",
    "   - **Batting Second:** 47 wins\n",
    "   - **Pattern:** CSK has a fairly balanced performance but slightly more wins when batting first.\n",
    "\n",
    "6. **RR (Rajasthan Royals)**\n",
    "   - **Batting First:** 34 wins\n",
    "   - **Batting Second:** 41 wins\n",
    "   - **Pattern:** Slightly more wins when batting second.\n",
    "\n",
    "7. **DD (Delhi Daredevils)**\n",
    "   - **Batting First:** 28 wins\n",
    "   - **Batting Second:** 38 wins\n",
    "   - **Pattern:** Better performance when batting second.\n",
    "\n",
    "8. **SRH (Sunrisers Hyderabad)**\n",
    "   - **Batting First:** 20 wins\n",
    "   - **Batting Second:** 36 wins\n",
    "   - **Pattern:** Significantly more wins when chasing.\n",
    "\n",
    "9. **DC (Deccan Chargers)**\n",
    "   - **Batting First:** 14 wins\n",
    "   - **Batting Second:** 15 wins\n",
    "   - **Pattern:** Almost equal performance in both scenarios, slightly better when chasing.\n",
    "\n",
    "10. **GL (Gujarat Lions)**\n",
    "    - **Batting First:** 2 wins\n",
    "    - **Batting Second:** 11 wins\n",
    "    - **Pattern:** More successful when chasing.\n",
    "\n",
    "11. **RPS (Rising Pune Supergiant)**\n",
    "    - **Batting First:** Data not available\n",
    "    - **Batting Second:** 10 wins\n",
    "    - **Pattern:** Only available data shows wins when batting second.\n",
    "\n",
    "12. **DCap (Delhi Capitals)**\n",
    "    - **Batting First:** 2 wins\n",
    "    - **Batting Second:** 7 wins\n",
    "    - **Pattern:** Better when batting second.\n",
    "\n",
    "13. **KTK (Kochi Tuskers Kerala)**\n",
    "    - **Batting First:** Data not available\n",
    "    - **Batting Second:** 6 wins\n",
    "    - **Pattern:** Wins only when batting second.\n",
    "\n",
    "14. **PW (Pune Warriors)**\n",
    "    - **Batting First:** 9 wins\n",
    "    - **Batting Second:** 3 wins\n",
    "    - **Pattern:** More wins when batting first.\n",
    "\n",
    "15. **RPSG (Rising Pune Supergiants)**\n",
    "    - **Batting First:** 2 wins\n",
    "    - **Batting Second:** 3 wins\n",
    "    - **Pattern:** Slightly better when chasing.\n",
    "\n",
    "## Overall Pattern\n",
    "- Most teams have a higher number of wins when batting second. This trend suggests that teams might be more successful chasing a target rather than setting one.\n",
    "- Exceptions include Chennai Super Kings (CSK) and Pune Warriors (PW), which have shown better or balanced performance when batting first.\n",
    "\n",
    "## Conclusion\n",
    "The chart highlights a general preference and higher success rate for teams batting second in the IPL. This could be due to various factors, such as pitch conditions, pressure handling, and strategic advantages gained from knowing the target score.\n"
   ]
  },
  {
   "cell_type": "code",
   "execution_count": 240,
   "id": "c3ffc963-6df0-4ac8-96e9-e1601f314e2e",
   "metadata": {},
   "outputs": [
    {
     "data": {
      "image/png": "[encoded data removed]",
      "text/plain": [
       "<Figure size 1200x800 with 2 Axes>"
      ]
     },
     "metadata": {},
     "output_type": "display_data"
    }
   ],
   "source": [
    "# 5. Heatmap - Correlation matrix\n",
    "plt.figure(figsize=(12, 8))\n",
    "corr_matrix = df[['win_by_runs', 'win_by_wickets']].corr()\n",
    "sns.heatmap(corr_matrix, annot=True, cmap='coolwarm', linewidths=0.5)\n",
    "plt.title('Correlation Matrix')\n",
    "plt.show()"
   ]
  },
  {
   "cell_type": "markdown",
   "id": "5afed841-9ca7-4d95-b1ed-deeddc5734fb",
   "metadata": {},
   "source": [
    "## Insights\n",
    "\n",
    "1. **Negative Correlation**:\n",
    "   - The correlation coefficient between \"win by runs\" and \"win by wickets\" is -0.57. This indicates a moderate negative correlation between the two variables. It means that as the margin of winning by runs increases, the margin of winning by wickets tends to decrease, and vice versa.\n",
    "\n",
    "2. **Perfect Self-Correlation**:\n",
    "   - The diagonal elements of the matrix show a perfect correlation of 1.0, which is expected because any variable is perfectly correlated with itself.\n",
    "\n",
    "## Interpretation\n",
    "\n",
    "- In the context of cricket matches, this negative correlation suggests that if a team wins by a large number of runs, it is less likely to win by a large number of wickets in other matches. These two modes of winning (by runs vs. by wickets) tend to inversely relate to each other, which makes intuitive sense as the strategies and conditions favoring one type of victory often oppose the other.\n",
    "\n",
    "This heatmap provides a quick visual summary of the relationship between the two variables, aiding in understanding how they interact.\n"
   ]
  },
  {
   "cell_type": "code",
   "execution_count": null,
   "id": "ab96870f-9a0e-487e-8e2b-16efb7332d23",
   "metadata": {},
   "outputs": [],
   "source": []
  }
 ],
 "metadata": {
  "kernelspec": {
   "display_name": "Python 3 (ipykernel)",
   "language": "python",
   "name": "python3"
  },
  "language_info": {
   "codemirror_mode": {
    "name": "ipython",
    "version": 3
   },
   "file_extension": ".py",
   "mimetype": "text/x-python",
   "name": "python",
   "nbconvert_exporter": "python",
   "pygments_lexer": "ipython3",
   "version": "3.11.8"
  }
 },
 "nbformat": 4,
 "nbformat_minor": 5
}
